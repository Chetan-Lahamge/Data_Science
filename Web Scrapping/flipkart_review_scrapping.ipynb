{
 "cells": [
  {
   "cell_type": "markdown",
   "metadata": {},
   "source": [
    "### Installing Required Packages"
   ]
  },
  {
   "cell_type": "code",
   "execution_count": 1,
   "metadata": {},
   "outputs": [
    {
     "name": "stdout",
     "output_type": "stream",
     "text": [
      "Requirement already satisfied: requests in d:\\data science\\.venv\\lib\\site-packages (2.32.3)\n",
      "Requirement already satisfied: charset-normalizer<4,>=2 in d:\\data science\\.venv\\lib\\site-packages (from requests) (3.4.0)\n",
      "Requirement already satisfied: idna<4,>=2.5 in d:\\data science\\.venv\\lib\\site-packages (from requests) (3.10)\n",
      "Requirement already satisfied: urllib3<3,>=1.21.1 in d:\\data science\\.venv\\lib\\site-packages (from requests) (2.2.3)\n",
      "Requirement already satisfied: certifi>=2017.4.17 in d:\\data science\\.venv\\lib\\site-packages (from requests) (2024.12.14)\n",
      "Note: you may need to restart the kernel to use updated packages.\n"
     ]
    }
   ],
   "source": [
    "pip install requests"
   ]
  },
  {
   "cell_type": "code",
   "execution_count": 2,
   "metadata": {},
   "outputs": [
    {
     "name": "stdout",
     "output_type": "stream",
     "text": [
      "Requirement already satisfied: bs4 in d:\\data science\\.venv\\lib\\site-packages (0.0.2)\n",
      "Requirement already satisfied: beautifulsoup4 in d:\\data science\\.venv\\lib\\site-packages (from bs4) (4.12.3)\n",
      "Requirement already satisfied: soupsieve>1.2 in d:\\data science\\.venv\\lib\\site-packages (from beautifulsoup4->bs4) (2.6)\n",
      "Note: you may need to restart the kernel to use updated packages.\n"
     ]
    }
   ],
   "source": [
    "pip install bs4"
   ]
  },
  {
   "cell_type": "markdown",
   "metadata": {},
   "source": [
    "### Import Required Libraries"
   ]
  },
  {
   "cell_type": "code",
   "execution_count": 47,
   "metadata": {},
   "outputs": [],
   "source": [
    "import requests\n",
    "import pandas as pd\n",
    "from bs4 import BeautifulSoup"
   ]
  },
  {
   "cell_type": "code",
   "execution_count": 65,
   "metadata": {},
   "outputs": [],
   "source": [
    "base_url = 'https://www.flipkart.com/apple-iphone-15-pro-max-natural-titanium-512-gb/product-reviews/itm9d44960698192?pid=MOBGTAGQWHVD9V2K&lid=LSTMOBGTAGQWHVD9V2KYQWPMY&marketplace=FLIPKART'\n",
    "pages_to_scrape = 5"
   ]
  },
  {
   "cell_type": "code",
   "execution_count": 66,
   "metadata": {},
   "outputs": [],
   "source": [
    "response = requests.get(base_url)"
   ]
  },
  {
   "cell_type": "code",
   "execution_count": 50,
   "metadata": {},
   "outputs": [],
   "source": [
    "soup = BeautifulSoup(response.text,'html.parser')"
   ]
  },
  {
   "cell_type": "code",
   "execution_count": 51,
   "metadata": {},
   "outputs": [],
   "source": [
    "reviews = soup.find_all('div',class_='cPHDOP col-12-12')"
   ]
  },
  {
   "cell_type": "code",
   "execution_count": 52,
   "metadata": {},
   "outputs": [
    {
     "data": {
      "text/html": [
       "<div>\n",
       "<style scoped>\n",
       "    .dataframe tbody tr th:only-of-type {\n",
       "        vertical-align: middle;\n",
       "    }\n",
       "\n",
       "    .dataframe tbody tr th {\n",
       "        vertical-align: top;\n",
       "    }\n",
       "\n",
       "    .dataframe thead th {\n",
       "        text-align: right;\n",
       "    }\n",
       "</style>\n",
       "<table border=\"1\" class=\"dataframe\">\n",
       "  <thead>\n",
       "    <tr style=\"text-align: right;\">\n",
       "      <th></th>\n",
       "      <th>Content</th>\n",
       "      <th>Rating</th>\n",
       "    </tr>\n",
       "  </thead>\n",
       "  <tbody>\n",
       "    <tr>\n",
       "      <th>0</th>\n",
       "      <td>Excellent 👌Khoobsurat ❤️READ MORE</td>\n",
       "      <td>5</td>\n",
       "    </tr>\n",
       "    <tr>\n",
       "      <th>1</th>\n",
       "      <td>Awesome productREAD MORE</td>\n",
       "      <td>5</td>\n",
       "    </tr>\n",
       "    <tr>\n",
       "      <th>2</th>\n",
       "      <td>Good design, thinner bezzel, good performance,...</td>\n",
       "      <td>5</td>\n",
       "    </tr>\n",
       "    <tr>\n",
       "      <th>3</th>\n",
       "      <td>This is my first flagship phone and I am glad ...</td>\n",
       "      <td>5</td>\n",
       "    </tr>\n",
       "    <tr>\n",
       "      <th>4</th>\n",
       "      <td>💕 goodREAD MORE</td>\n",
       "      <td>5</td>\n",
       "    </tr>\n",
       "    <tr>\n",
       "      <th>5</th>\n",
       "      <td>This one is love .. no words to explain ..READ...</td>\n",
       "      <td>5</td>\n",
       "    </tr>\n",
       "    <tr>\n",
       "      <th>6</th>\n",
       "      <td>Very Good SmartphoneGood performance Good batt...</td>\n",
       "      <td>5</td>\n",
       "    </tr>\n",
       "    <tr>\n",
       "      <th>7</th>\n",
       "      <td>AwesomeREAD MORE</td>\n",
       "      <td>5</td>\n",
       "    </tr>\n",
       "    <tr>\n",
       "      <th>8</th>\n",
       "      <td>Upgraded from 11 to 15 pro max after 2 year Th...</td>\n",
       "      <td>5</td>\n",
       "    </tr>\n",
       "    <tr>\n",
       "      <th>9</th>\n",
       "      <td>I've reviewed and tested iPhones for years, bu...</td>\n",
       "      <td>5</td>\n",
       "    </tr>\n",
       "  </tbody>\n",
       "</table>\n",
       "</div>"
      ],
      "text/plain": [
       "                                             Content Rating\n",
       "0                  Excellent 👌Khoobsurat ❤️READ MORE      5\n",
       "1                           Awesome productREAD MORE      5\n",
       "2  Good design, thinner bezzel, good performance,...      5\n",
       "3  This is my first flagship phone and I am glad ...      5\n",
       "4                                    💕 goodREAD MORE      5\n",
       "5  This one is love .. no words to explain ..READ...      5\n",
       "6  Very Good SmartphoneGood performance Good batt...      5\n",
       "7                                   AwesomeREAD MORE      5\n",
       "8  Upgraded from 11 to 15 pro max after 2 year Th...      5\n",
       "9  I've reviewed and tested iPhones for years, bu...      5"
      ]
     },
     "execution_count": 52,
     "metadata": {},
     "output_type": "execute_result"
    }
   ],
   "source": [
    "all_review = []\n",
    "for review in reviews:\n",
    "    rating = review.find('div',class_='XQDdHH Ga3i8K').text.strip() if review.find('div',class_='XQDdHH Ga3i8K') else \"No Rating\"\n",
    "    content = review.find('div',class_='ZmyHeo').text.strip() if review.find('div',class_='ZmyHeo') else \"No Content\"\n",
    "    all_review.append({\"Content\":content,\"Rating\":rating})\n",
    "review_df = pd.DataFrame(all_review)\n",
    "review_df_cleaned = review_df[review_df['Content']!=\"No Content\"].reset_index(drop=True)\n",
    "review_df_cleaned"
   ]
  },
  {
   "cell_type": "code",
   "execution_count": 105,
   "metadata": {},
   "outputs": [],
   "source": [
    "def review_scrapper(base_url,no_of_pages):\n",
    "    all_review = []\n",
    "    for i in range(1,no_of_pages+1):\n",
    "        url = f\"{base_url}&page={i}\"\n",
    "        print(\"Scraping:\",url)\n",
    "        response = requests.get(url)\n",
    "        if response.status_code !=200:\n",
    "            print(\"Failed to scrape the Page:\",url)\n",
    "            continue\n",
    "        soup = BeautifulSoup(response.text,'html.parser')\n",
    "        reviews = soup.find_all('div',class_='cPHDOP col-12-12')\n",
    "        for review in reviews:\n",
    "            rating = review.find('div',class_='XQDdHH Ga3i8K').text.strip() if review.find('div',class_='XQDdHH Ga3i8K') else \"No Rating\"\n",
    "            content = review.find('div',class_='ZmyHeo').text.strip() if review.find('div',class_='ZmyHeo') else \"No Content\"\n",
    "            all_review.append({\"Content\":content,\"Rating\":rating})\n",
    "    review_df = pd.DataFrame(all_review)\n",
    "    review_df_cleaned = review_df[review_df['Content']!=\"No Content\"].reset_index(drop=True)\n",
    "    return review_df_cleaned"
   ]
  },
  {
   "cell_type": "code",
   "execution_count": 109,
   "metadata": {},
   "outputs": [
    {
     "name": "stdout",
     "output_type": "stream",
     "text": [
      "Scraping: https://www.flipkart.com/apple-iphone-15-pro-max-natural-titanium-512-gb/product-reviews/itm9d44960698192?pid=MOBGTAGQWHVD9V2K&lid=LSTMOBGTAGQWHVD9V2KYQWPMY&marketplace=FLIPKART&page=1\n",
      "Scraping: https://www.flipkart.com/apple-iphone-15-pro-max-natural-titanium-512-gb/product-reviews/itm9d44960698192?pid=MOBGTAGQWHVD9V2K&lid=LSTMOBGTAGQWHVD9V2KYQWPMY&marketplace=FLIPKART&page=2\n",
      "Scraping: https://www.flipkart.com/apple-iphone-15-pro-max-natural-titanium-512-gb/product-reviews/itm9d44960698192?pid=MOBGTAGQWHVD9V2K&lid=LSTMOBGTAGQWHVD9V2KYQWPMY&marketplace=FLIPKART&page=3\n",
      "Scraping: https://www.flipkart.com/apple-iphone-15-pro-max-natural-titanium-512-gb/product-reviews/itm9d44960698192?pid=MOBGTAGQWHVD9V2K&lid=LSTMOBGTAGQWHVD9V2KYQWPMY&marketplace=FLIPKART&page=4\n",
      "Scraping: https://www.flipkart.com/apple-iphone-15-pro-max-natural-titanium-512-gb/product-reviews/itm9d44960698192?pid=MOBGTAGQWHVD9V2K&lid=LSTMOBGTAGQWHVD9V2KYQWPMY&marketplace=FLIPKART&page=5\n",
      "Scraping: https://www.flipkart.com/apple-iphone-15-pro-max-natural-titanium-512-gb/product-reviews/itm9d44960698192?pid=MOBGTAGQWHVD9V2K&lid=LSTMOBGTAGQWHVD9V2KYQWPMY&marketplace=FLIPKART&page=6\n",
      "Scraping: https://www.flipkart.com/apple-iphone-15-pro-max-natural-titanium-512-gb/product-reviews/itm9d44960698192?pid=MOBGTAGQWHVD9V2K&lid=LSTMOBGTAGQWHVD9V2KYQWPMY&marketplace=FLIPKART&page=7\n",
      "Scraping: https://www.flipkart.com/apple-iphone-15-pro-max-natural-titanium-512-gb/product-reviews/itm9d44960698192?pid=MOBGTAGQWHVD9V2K&lid=LSTMOBGTAGQWHVD9V2KYQWPMY&marketplace=FLIPKART&page=8\n",
      "Scraping: https://www.flipkart.com/apple-iphone-15-pro-max-natural-titanium-512-gb/product-reviews/itm9d44960698192?pid=MOBGTAGQWHVD9V2K&lid=LSTMOBGTAGQWHVD9V2KYQWPMY&marketplace=FLIPKART&page=9\n",
      "Scraping: https://www.flipkart.com/apple-iphone-15-pro-max-natural-titanium-512-gb/product-reviews/itm9d44960698192?pid=MOBGTAGQWHVD9V2K&lid=LSTMOBGTAGQWHVD9V2KYQWPMY&marketplace=FLIPKART&page=10\n",
      "Scraping: https://www.flipkart.com/apple-iphone-15-pro-max-natural-titanium-512-gb/product-reviews/itm9d44960698192?pid=MOBGTAGQWHVD9V2K&lid=LSTMOBGTAGQWHVD9V2KYQWPMY&marketplace=FLIPKART&page=11\n",
      "Scraping: https://www.flipkart.com/apple-iphone-15-pro-max-natural-titanium-512-gb/product-reviews/itm9d44960698192?pid=MOBGTAGQWHVD9V2K&lid=LSTMOBGTAGQWHVD9V2KYQWPMY&marketplace=FLIPKART&page=12\n",
      "Scraping: https://www.flipkart.com/apple-iphone-15-pro-max-natural-titanium-512-gb/product-reviews/itm9d44960698192?pid=MOBGTAGQWHVD9V2K&lid=LSTMOBGTAGQWHVD9V2KYQWPMY&marketplace=FLIPKART&page=13\n",
      "Scraping: https://www.flipkart.com/apple-iphone-15-pro-max-natural-titanium-512-gb/product-reviews/itm9d44960698192?pid=MOBGTAGQWHVD9V2K&lid=LSTMOBGTAGQWHVD9V2KYQWPMY&marketplace=FLIPKART&page=14\n",
      "Scraping: https://www.flipkart.com/apple-iphone-15-pro-max-natural-titanium-512-gb/product-reviews/itm9d44960698192?pid=MOBGTAGQWHVD9V2K&lid=LSTMOBGTAGQWHVD9V2KYQWPMY&marketplace=FLIPKART&page=15\n",
      "Scraping: https://www.flipkart.com/apple-iphone-15-pro-max-natural-titanium-512-gb/product-reviews/itm9d44960698192?pid=MOBGTAGQWHVD9V2K&lid=LSTMOBGTAGQWHVD9V2KYQWPMY&marketplace=FLIPKART&page=16\n",
      "Scraping: https://www.flipkart.com/apple-iphone-15-pro-max-natural-titanium-512-gb/product-reviews/itm9d44960698192?pid=MOBGTAGQWHVD9V2K&lid=LSTMOBGTAGQWHVD9V2KYQWPMY&marketplace=FLIPKART&page=17\n",
      "Scraping: https://www.flipkart.com/apple-iphone-15-pro-max-natural-titanium-512-gb/product-reviews/itm9d44960698192?pid=MOBGTAGQWHVD9V2K&lid=LSTMOBGTAGQWHVD9V2KYQWPMY&marketplace=FLIPKART&page=18\n",
      "Scraping: https://www.flipkart.com/apple-iphone-15-pro-max-natural-titanium-512-gb/product-reviews/itm9d44960698192?pid=MOBGTAGQWHVD9V2K&lid=LSTMOBGTAGQWHVD9V2KYQWPMY&marketplace=FLIPKART&page=19\n"
     ]
    }
   ],
   "source": [
    "review_df_all = review_scrapper(base_url,19)"
   ]
  },
  {
   "cell_type": "code",
   "execution_count": 110,
   "metadata": {},
   "outputs": [
    {
     "data": {
      "text/plain": [
       "(100, 2)"
      ]
     },
     "execution_count": 110,
     "metadata": {},
     "output_type": "execute_result"
    }
   ],
   "source": [
    "review_df_all.shape"
   ]
  },
  {
   "cell_type": "code",
   "execution_count": 111,
   "metadata": {},
   "outputs": [
    {
     "data": {
      "text/html": [
       "<div>\n",
       "<style scoped>\n",
       "    .dataframe tbody tr th:only-of-type {\n",
       "        vertical-align: middle;\n",
       "    }\n",
       "\n",
       "    .dataframe tbody tr th {\n",
       "        vertical-align: top;\n",
       "    }\n",
       "\n",
       "    .dataframe thead th {\n",
       "        text-align: right;\n",
       "    }\n",
       "</style>\n",
       "<table border=\"1\" class=\"dataframe\">\n",
       "  <thead>\n",
       "    <tr style=\"text-align: right;\">\n",
       "      <th></th>\n",
       "      <th>Content</th>\n",
       "      <th>Rating</th>\n",
       "    </tr>\n",
       "  </thead>\n",
       "  <tbody>\n",
       "    <tr>\n",
       "      <th>0</th>\n",
       "      <td>Excellent 👌Khoobsurat ❤️READ MORE</td>\n",
       "      <td>5</td>\n",
       "    </tr>\n",
       "    <tr>\n",
       "      <th>1</th>\n",
       "      <td>Awesome productREAD MORE</td>\n",
       "      <td>5</td>\n",
       "    </tr>\n",
       "    <tr>\n",
       "      <th>2</th>\n",
       "      <td>Good design, thinner bezzel, good performance,...</td>\n",
       "      <td>5</td>\n",
       "    </tr>\n",
       "    <tr>\n",
       "      <th>3</th>\n",
       "      <td>This is my first flagship phone and I am glad ...</td>\n",
       "      <td>5</td>\n",
       "    </tr>\n",
       "    <tr>\n",
       "      <th>4</th>\n",
       "      <td>💕 goodREAD MORE</td>\n",
       "      <td>5</td>\n",
       "    </tr>\n",
       "    <tr>\n",
       "      <th>5</th>\n",
       "      <td>This one is love .. no words to explain ..READ...</td>\n",
       "      <td>5</td>\n",
       "    </tr>\n",
       "    <tr>\n",
       "      <th>6</th>\n",
       "      <td>Very Good SmartphoneGood performance Good batt...</td>\n",
       "      <td>5</td>\n",
       "    </tr>\n",
       "    <tr>\n",
       "      <th>7</th>\n",
       "      <td>AwesomeREAD MORE</td>\n",
       "      <td>5</td>\n",
       "    </tr>\n",
       "    <tr>\n",
       "      <th>8</th>\n",
       "      <td>Upgraded from 11 to 15 pro max after 2 year Th...</td>\n",
       "      <td>5</td>\n",
       "    </tr>\n",
       "    <tr>\n",
       "      <th>9</th>\n",
       "      <td>I've reviewed and tested iPhones for years, bu...</td>\n",
       "      <td>5</td>\n",
       "    </tr>\n",
       "  </tbody>\n",
       "</table>\n",
       "</div>"
      ],
      "text/plain": [
       "                                             Content Rating\n",
       "0                  Excellent 👌Khoobsurat ❤️READ MORE      5\n",
       "1                           Awesome productREAD MORE      5\n",
       "2  Good design, thinner bezzel, good performance,...      5\n",
       "3  This is my first flagship phone and I am glad ...      5\n",
       "4                                    💕 goodREAD MORE      5\n",
       "5  This one is love .. no words to explain ..READ...      5\n",
       "6  Very Good SmartphoneGood performance Good batt...      5\n",
       "7                                   AwesomeREAD MORE      5\n",
       "8  Upgraded from 11 to 15 pro max after 2 year Th...      5\n",
       "9  I've reviewed and tested iPhones for years, bu...      5"
      ]
     },
     "execution_count": 111,
     "metadata": {},
     "output_type": "execute_result"
    }
   ],
   "source": [
    "review_df_all.head(10)"
   ]
  },
  {
   "cell_type": "code",
   "execution_count": 113,
   "metadata": {},
   "outputs": [
    {
     "data": {
      "text/plain": [
       "('3', '5', 5.555555555555555e+97)"
      ]
     },
     "execution_count": 113,
     "metadata": {},
     "output_type": "execute_result"
    }
   ],
   "source": [
    "review_df_all['Rating'].min(),review_df_all['Rating'].max(),review_df_all['Rating'].mean()"
   ]
  },
  {
   "cell_type": "code",
   "execution_count": 114,
   "metadata": {},
   "outputs": [
    {
     "data": {
      "text/plain": [
       "Content    0\n",
       "Rating     0\n",
       "dtype: int64"
      ]
     },
     "execution_count": 114,
     "metadata": {},
     "output_type": "execute_result"
    }
   ],
   "source": [
    "review_df_all.isna().sum()"
   ]
  }
 ],
 "metadata": {
  "kernelspec": {
   "display_name": ".venv",
   "language": "python",
   "name": "python3"
  },
  "language_info": {
   "codemirror_mode": {
    "name": "ipython",
    "version": 3
   },
   "file_extension": ".py",
   "mimetype": "text/x-python",
   "name": "python",
   "nbconvert_exporter": "python",
   "pygments_lexer": "ipython3",
   "version": "3.12.4"
  }
 },
 "nbformat": 4,
 "nbformat_minor": 2
}
